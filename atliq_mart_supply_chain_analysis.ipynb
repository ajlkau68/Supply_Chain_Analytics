{
 "cells": [
  {
   "cell_type": "markdown",
   "metadata": {},
   "source": [
    "## **Supply Chain Analysis**"
   ]
  },
  {
   "cell_type": "code",
   "execution_count": 71,
   "metadata": {},
   "outputs": [],
   "source": [
    "import pandas as pd\n",
    "import numpy as np \n",
    "import matplotlib.pyplot as plt\n",
    "import datetime as dt\n",
    "import seaborn as sns\n",
    "\n",
    "plt.style.use('ggplot')\n",
    "\n",
    "%matplotlib inline"
   ]
  },
  {
   "cell_type": "markdown",
   "metadata": {},
   "source": [
    "### Task Outline "
   ]
  },
  {
   "cell_type": "markdown",
   "metadata": {},
   "source": [
    "- Order Line Analysis\n",
    "\n",
    "- Service Line Analysis\n",
    "\n",
    "- Line Lead Time Analysis\n",
    "\n",
    "- Order Analysis"
   ]
  },
  {
   "cell_type": "markdown",
   "metadata": {},
   "source": [
    "### Load Datasets"
   ]
  },
  {
   "cell_type": "markdown",
   "metadata": {},
   "source": [
    "First, let's load all datasets needed for the analysis."
   ]
  },
  {
   "cell_type": "code",
   "execution_count": null,
   "metadata": {},
   "outputs": [],
   "source": [
    "df_order_lines = pd.read_csv('../data./fact_order_lines.csv', \n",
    "                 parse_dates=['order_placement_date', 'agreed_delivery_date', 'actual_delivery_date'])\n",
    "df_order_lines.head()"
   ]
  },
  {
   "cell_type": "code",
   "execution_count": null,
   "metadata": {},
   "outputs": [],
   "source": [
    "df_order_agg = pd.read_csv('../data./fact_orders_aggregate.csv', \n",
    "                 parse_dates=['order_placement_date'])\n",
    "df_order_agg.head()"
   ]
  },
  {
   "cell_type": "code",
   "execution_count": null,
   "metadata": {},
   "outputs": [],
   "source": [
    "dim_customers = pd.read_csv('../data./dim_customers.csv')\n",
    "dim_customers.head()"
   ]
  },
  {
   "cell_type": "code",
   "execution_count": null,
   "metadata": {},
   "outputs": [],
   "source": [
    "dim_products = pd.read_csv('../data./dim_products.csv')\n",
    "dim_products.head()"
   ]
  },
  {
   "cell_type": "code",
   "execution_count": null,
   "metadata": {},
   "outputs": [],
   "source": [
    "dim_target_orders = pd.read_csv('../data./dim_targets_orders.csv')\n",
    "dim_target_orders.head()"
   ]
  },
  {
   "cell_type": "markdown",
   "metadata": {},
   "source": [
    "### **Order Lines Analysis**"
   ]
  },
  {
   "cell_type": "markdown",
   "metadata": {},
   "source": [
    "The following columns will be added by mapping values from different tables to their corresponding key matches in another table. This will create full table which we can now use in our analysis."
   ]
  },
  {
   "cell_type": "code",
   "execution_count": null,
   "metadata": {},
   "outputs": [],
   "source": [
    "# Merge the customer and product datasets with the order lines dataset\n",
    "# by performing a left join\n",
    "# This will allow us to perform further analysis on the dataset\n",
    "\n",
    "df_order_lines = df_order_lines.merge(dim_customers, how='left', on='customer_id')\n",
    "df_order_lines = df_order_lines.merge(dim_products, how='left', on='product_id')\n",
    "\n",
    "df_order_lines.head()"
   ]
  },
  {
   "cell_type": "markdown",
   "metadata": {},
   "source": [
    "#### **Simple EDA on Dataset**"
   ]
  },
  {
   "cell_type": "code",
   "execution_count": null,
   "metadata": {},
   "outputs": [],
   "source": [
    "df_order_lines.info()"
   ]
  },
  {
   "cell_type": "code",
   "execution_count": null,
   "metadata": {},
   "outputs": [],
   "source": [
    "df_order_lines.duplicated().sum()"
   ]
  },
  {
   "cell_type": "markdown",
   "metadata": {},
   "source": [
    "There are no null and duplicate values in the dataset. Let's proceed to performing our analysis.\n",
    "\n",
    "Let's create more columns that we can use for analysis."
   ]
  },
  {
   "cell_type": "code",
   "execution_count": null,
   "metadata": {},
   "outputs": [],
   "source": [
    "# Also add the week and month of order\n",
    "\n",
    "df_order_lines['week_no'] = df_order_lines['order_placement_date'].dt.isocalendar().week\n",
    "df_order_lines['week_no'] = [int(num) for num in df_order_lines['week_no']]\n",
    "df_order_lines['month'] = df_order_lines['order_placement_date'].dt.month_name()\n",
    "\n",
    "# We can calculate the number of days it took to deliver an order as well.\n",
    "df_order_lines['delayed_days']= (df_order_lines['actual_delivery_date'] - df_order_lines['agreed_delivery_date']).dt.days\n",
    "\n",
    "df_order_lines.head()"
   ]
  },
  {
   "cell_type": "markdown",
   "metadata": {},
   "source": [
    "### **Metrics Calculation**"
   ]
  },
  {
   "cell_type": "code",
   "execution_count": null,
   "metadata": {},
   "outputs": [],
   "source": [
    "total_order_lines = df_order_lines['order_id'].count()\n",
    "print(f'Total Order Lines: {total_order_lines}')"
   ]
  },
  {
   "cell_type": "code",
   "execution_count": null,
   "metadata": {},
   "outputs": [],
   "source": [
    "orders_fully_filled = df_order_lines.query(\"`In Full` == 1\").shape[0]\n",
    "print(f'Total Orders Fully Filled: {orders_fully_filled}')"
   ]
  },
  {
   "cell_type": "code",
   "execution_count": null,
   "metadata": {},
   "outputs": [],
   "source": [
    "line_fill_rate = round(orders_fully_filled/total_order_lines * 100, 2)\n",
    "print(f'Line fill rate: {line_fill_rate}%')"
   ]
  },
  {
   "cell_type": "code",
   "execution_count": null,
   "metadata": {},
   "outputs": [],
   "source": [
    "total_qty_shipped = df_order_lines['delivery_qty'].sum()\n",
    "total_qty_ordered = df_order_lines['order_qty'].sum()\n",
    "\n",
    "volume_fill_rate = round(total_qty_shipped/total_qty_ordered * 100, 2)\n",
    "print(f'Volume fill rate: {volume_fill_rate}%')"
   ]
  },
  {
   "cell_type": "markdown",
   "metadata": {},
   "source": [
    "**Customer Insights**"
   ]
  },
  {
   "cell_type": "markdown",
   "metadata": {},
   "source": [
    "**Total order lines per customer and LIFR % per customer**"
   ]
  },
  {
   "cell_type": "code",
   "execution_count": null,
   "metadata": {},
   "outputs": [],
   "source": [
    "# Get the order lines delivered in full per customer\n",
    "\n",
    "orders_in_full = df_order_lines.query(\"`In Full` == 1\").groupby('customer_name')[['order_id']].count().reset_index()\n",
    "orders_in_full = orders_in_full.rename({'order_id':'in_full_orders'}, axis=1)\n",
    "orders_in_full.head()\n"
   ]
  },
  {
   "cell_type": "code",
   "execution_count": null,
   "metadata": {},
   "outputs": [],
   "source": [
    "# Get the total order lines delivered per customer\n",
    "# Let's also add the qty ordered and qty delivered columns as well\n",
    "\n",
    "orders_per_customer = df_order_lines.groupby('customer_name')[[\n",
    "    'order_id', 'order_qty', 'delivery_qty']].agg({\n",
    "        'order_id':'count', \n",
    "        'order_qty':'sum', \n",
    "        'delivery_qty':'sum'\n",
    "    }).reset_index()\n",
    "orders_per_customer = orders_per_customer.rename({'order_id':'total_orders'}, axis=1)\n",
    "orders_per_customer.head()"
   ]
  },
  {
   "cell_type": "code",
   "execution_count": null,
   "metadata": {},
   "outputs": [],
   "source": [
    "# Merge both datasets\n",
    "\n",
    "orders_per_customer = orders_per_customer.merge(orders_in_full, how='inner', on='customer_name')\n",
    "orders_per_customer.head(3)"
   ]
  },
  {
   "cell_type": "code",
   "execution_count": null,
   "metadata": {},
   "outputs": [],
   "source": [
    "# Calculate LIFR % and VOFR %\n",
    "orders_per_customer['LIFR %'] = round(orders_per_customer['in_full_orders']/orders_per_customer['total_orders'] * 100, 2)\n",
    "orders_per_customer['VOFR %'] = round(orders_per_customer['delivery_qty']/orders_per_customer['order_qty'] * 100, 2)\n",
    "\n",
    "orders_per_customer.head(3)"
   ]
  },
  {
   "cell_type": "markdown",
   "metadata": {},
   "source": [
    "Let's visualize this using a combo chart."
   ]
  },
  {
   "cell_type": "code",
   "execution_count": null,
   "metadata": {},
   "outputs": [],
   "source": [
    "# Create combo chart\n",
    "# This will measure the time of the day that is the busiest and its impact on wait time\n",
    "\n",
    "fig, ax1 = plt.subplots(figsize = (23, 10))\n",
    "\n",
    "ax1.plot(orders_per_customer['customer_name'], orders_per_customer['total_orders'], color='orange', marker='x')\n",
    "ax1.set_ylabel('Order Lines', fontsize=15)\n",
    "ax1.set_ylim(0, 6500)\n",
    "ax1.grid(False)\n",
    "ax1.set_xlabel('Customer', fontsize=15)\n",
    "ax1.legend(['Order Lines'], loc='upper left', fontsize=15)\n",
    "\n",
    "ax2 = ax1.twinx()\n",
    "ax2.bar(orders_per_customer['customer_name'], orders_per_customer['LIFR %'], width=0.8, alpha=0.5, color='blue')\n",
    "ax2.grid(False)\n",
    "ax2.set_ylabel('LIFR %', fontsize=15)\n",
    "ax2.set_ylim(0, 85)\n",
    "ax2.legend(['LIFR %'], loc='upper right', fontsize=15)\n",
    "plt.title('Total Order Lines vs LIFR % per Customer', fontsize=18)\n",
    "plt.xticks(orders_per_customer['customer_name'], fontsize=15, rotation=45)\n",
    "\n",
    "\n",
    "plt.show()"
   ]
  },
  {
   "cell_type": "markdown",
   "metadata": {},
   "source": [
    "**Product Insights**"
   ]
  },
  {
   "cell_type": "code",
   "execution_count": null,
   "metadata": {},
   "outputs": [],
   "source": [
    "# Get the order lines delivered in full per product\n",
    "\n",
    "product_in_full = df_order_lines.query(\"`In Full` == 1\").groupby('product_name')[['order_id']].count().reset_index()\n",
    "product_in_full = product_in_full.rename({'order_id':'in_full_orders'}, axis=1)\n",
    "product_in_full.head()"
   ]
  },
  {
   "cell_type": "code",
   "execution_count": null,
   "metadata": {},
   "outputs": [],
   "source": [
    "# Get the total order lines delivered per customer\n",
    "# Let's also add the qty ordered and qty delivered columns as well\n",
    "\n",
    "orders_per_product = df_order_lines.groupby('product_name')[[\n",
    "    'order_id', 'order_qty', 'delivery_qty']].agg({\n",
    "        'order_id':'count', \n",
    "        'order_qty':'sum', \n",
    "        'delivery_qty':'sum'\n",
    "    }).reset_index()\n",
    "orders_per_product = orders_per_product.rename({'order_id':'total_orders'}, axis=1)\n",
    "orders_per_product.head()"
   ]
  },
  {
   "cell_type": "code",
   "execution_count": null,
   "metadata": {},
   "outputs": [],
   "source": [
    "# Merge both datasets\n",
    "\n",
    "orders_per_product = orders_per_product.merge(product_in_full, how='inner', on='product_name')\n",
    "orders_per_product.head(3)"
   ]
  },
  {
   "cell_type": "code",
   "execution_count": null,
   "metadata": {},
   "outputs": [],
   "source": [
    "# Calculate LIFR % and VOFR %\n",
    "orders_per_product['LIFR %'] = round(orders_per_product['in_full_orders']/orders_per_product['total_orders'] * 100, 2)\n",
    "orders_per_product['VOFR %'] = round(orders_per_product['delivery_qty']/orders_per_product['order_qty'] * 100, 2)\n",
    "\n",
    "orders_per_product.head(3)"
   ]
  },
  {
   "cell_type": "code",
   "execution_count": null,
   "metadata": {},
   "outputs": [],
   "source": [
    "# Top 5 products by LIFR% \n",
    "\n",
    "top_5_products_by_lifr = orders_per_product.sort_values(by='LIFR %', ascending=False).head().reset_index(drop=True)\n",
    "top_5_products_by_lifr"
   ]
  },
  {
   "cell_type": "code",
   "execution_count": null,
   "metadata": {},
   "outputs": [],
   "source": [
    "# Plot the top 5 Products by LIFR%\n",
    "\n",
    "plt.barh(y='product_name', width='LIFR %', data=top_5_products_by_lifr, color='dodgerblue')\n",
    "plt.title(' Top 5 Products by LIFR %', fontsize=12)\n",
    "plt.xlabel('LIFR %', fontsize=10)\n",
    "plt.show()"
   ]
  },
  {
   "cell_type": "code",
   "execution_count": null,
   "metadata": {},
   "outputs": [],
   "source": [
    "# Plot the orders per product category \n",
    "\n",
    "category = df_order_lines.groupby('category')[['order_id']].count().reset_index()\n",
    "plt.bar(x='category', height='order_id', data=category, color='dodgerblue')\n",
    "plt.title('Order Lines per Product Category')\n",
    "plt.xlabel('Category')\n",
    "plt.ylabel('Orders')\n",
    "plt.show()"
   ]
  },
  {
   "cell_type": "markdown",
   "metadata": {},
   "source": [
    "**Line Lead Time Analysis**"
   ]
  },
  {
   "cell_type": "code",
   "execution_count": null,
   "metadata": {},
   "outputs": [],
   "source": [
    "# Delayed time by products\n",
    "\n",
    "delayed_product = df_order_lines.pivot_table(\n",
    "    values=['order_id'],\n",
    "    columns=['product_name'],\n",
    "    index='delayed_days',\n",
    "    aggfunc='count'\n",
    ")\n",
    "delayed_product"
   ]
  },
  {
   "cell_type": "code",
   "execution_count": null,
   "metadata": {},
   "outputs": [],
   "source": [
    "# Delayed time by customer\n",
    "\n",
    "delayed_customer = df_order_lines.pivot_table(\n",
    "    values=['order_id'],\n",
    "    columns=['customer_name'],\n",
    "    index='delayed_days',\n",
    "    aggfunc='count'\n",
    ")\n",
    "delayed_customer"
   ]
  },
  {
   "cell_type": "code",
   "execution_count": null,
   "metadata": {},
   "outputs": [],
   "source": [
    "# Delayed time by city\n",
    "\n",
    "delayed_city = df_order_lines.pivot_table(\n",
    "    values=['order_id'],\n",
    "    columns=['city'],\n",
    "    index='delayed_days',\n",
    "    aggfunc='count'\n",
    ")\n",
    "delayed_city\n"
   ]
  },
  {
   "cell_type": "code",
   "execution_count": null,
   "metadata": {},
   "outputs": [],
   "source": [
    "# Number of orders per delayed day\n",
    "\n",
    "delayed_days = df_order_lines.groupby(['delayed_days'])[['order_id']].count().reset_index()\n",
    "delayed_days"
   ]
  },
  {
   "cell_type": "code",
   "execution_count": null,
   "metadata": {},
   "outputs": [],
   "source": [
    "# Make a chart to show how the number of orders per delayed day\n",
    "\n",
    "plt.barh(y=delayed_days['delayed_days'], width=delayed_days['order_id'], color='dodgerblue')\n",
    "plt.grid(False)\n",
    "plt.xlabel('Order Lines')\n",
    "plt.ylabel('Delayed Days')\n",
    "plt.title('Number of Order Lines by Delayed Days')\n",
    "\n",
    "plt.show()"
   ]
  },
  {
   "cell_type": "markdown",
   "metadata": {},
   "source": [
    "### **Order Analysis**"
   ]
  },
  {
   "cell_type": "markdown",
   "metadata": {},
   "source": [
    "To perform the order analysis we will use the `df_order_agg` dataset. First we will merge it with `dim_customers` to enable us perform our analysis."
   ]
  },
  {
   "cell_type": "code",
   "execution_count": null,
   "metadata": {},
   "outputs": [],
   "source": [
    "# Merge dataframes\n",
    "\n",
    "df_order_agg = df_order_agg.merge(dim_customers, how='inner', on='customer_id')\n",
    "df_order_agg.head()"
   ]
  },
  {
   "cell_type": "code",
   "execution_count": null,
   "metadata": {},
   "outputs": [],
   "source": [
    "# Let's also add a month and week column to the dataset\n",
    "\n",
    "df_order_agg['week_no'] = df_order_agg['order_placement_date'].dt.isocalendar().week\n",
    "df_order_agg['week_no'] = [int(num) for num in df_order_agg['week_no']]\n",
    "df_order_agg['month'] = df_order_agg['order_placement_date'].dt.month_name()\n",
    "df_order_agg.head()"
   ]
  },
  {
   "cell_type": "markdown",
   "metadata": {},
   "source": [
    "### **Metrics Calculation**"
   ]
  },
  {
   "cell_type": "code",
   "execution_count": null,
   "metadata": {},
   "outputs": [],
   "source": [
    "total_orders = df_order_agg['order_id'].count()\n",
    "print(f'Total Orders: {total_orders}')"
   ]
  },
  {
   "cell_type": "code",
   "execution_count": null,
   "metadata": {},
   "outputs": [],
   "source": [
    "total_on_time_orders = df_order_agg.query(\"on_time == 1\").shape[0]\n",
    "print(f'Total On Time Orders: {total_on_time_orders}')"
   ]
  },
  {
   "cell_type": "code",
   "execution_count": null,
   "metadata": {},
   "outputs": [],
   "source": [
    "total_in_full_orders = df_order_agg.query(\"in_full == 1\").shape[0]\n",
    "print(f'Total In Full Orders: {total_in_full_orders}')"
   ]
  },
  {
   "cell_type": "code",
   "execution_count": null,
   "metadata": {},
   "outputs": [],
   "source": [
    "total_otif_orders = df_order_agg.query(\"otif == 1\").shape[0]\n",
    "print(f'Total Otif Orders: {total_otif_orders}')"
   ]
  },
  {
   "cell_type": "markdown",
   "metadata": {},
   "source": [
    "**Orders by City and Customer**"
   ]
  },
  {
   "cell_type": "code",
   "execution_count": null,
   "metadata": {},
   "outputs": [],
   "source": [
    "df_order_agg.head()"
   ]
  },
  {
   "cell_type": "code",
   "execution_count": null,
   "metadata": {},
   "outputs": [],
   "source": [
    "# Orders per city\n",
    "\n",
    "city_orders = df_order_agg.groupby('city')[['order_id']].count().sort_values(by='order_id', ascending=True)\n",
    "city_orders"
   ]
  },
  {
   "cell_type": "code",
   "execution_count": null,
   "metadata": {},
   "outputs": [],
   "source": [
    "# Orders per customer\n",
    "\n",
    "customer_orders = df_order_agg.groupby('customer_name')[['order_id']].count().sort_values(by='order_id', ascending=True)\n",
    "customer_orders = customer_orders.rename({'order_id':'total_orders'}, axis=1).reset_index()\n",
    "customer_orders"
   ]
  },
  {
   "cell_type": "markdown",
   "metadata": {},
   "source": [
    "We can also visualize this data."
   ]
  },
  {
   "cell_type": "code",
   "execution_count": null,
   "metadata": {},
   "outputs": [],
   "source": [
    "# Plot orders per city chart \n",
    "\n",
    "city_orders.plot(kind='barh', color='dodgerblue')\n",
    "plt.title('Orders per City')\n",
    "plt.xlabel('City')\n",
    "plt.ylabel('Orders')\n",
    "plt.legend([])\n",
    "plt.grid(False)\n",
    "plt.show()"
   ]
  },
  {
   "cell_type": "code",
   "execution_count": null,
   "metadata": {},
   "outputs": [],
   "source": [
    "# Plot orders per customers \n",
    "\n",
    "plt.barh(y='customer_name', width='total_orders', data=customer_orders, color='dodgerblue')\n",
    "plt.title('Orders per Customer')\n",
    "plt.xlabel('Customers')\n",
    "plt.ylabel('Orders')\n",
    "plt.legend([])\n",
    "plt.grid(False)\n",
    "plt.show()"
   ]
  },
  {
   "cell_type": "markdown",
   "metadata": {},
   "source": [
    "### **Service Level Analysis**"
   ]
  },
  {
   "cell_type": "markdown",
   "metadata": {},
   "source": [
    "This analysis will take care of the On_time, In_full and On_Time_In_Full analysis of customer and cities. We will like to know which customer is satisfied by our service and who is not so we can make improvements. "
   ]
  },
  {
   "cell_type": "code",
   "execution_count": null,
   "metadata": {},
   "outputs": [],
   "source": [
    "# Lets find the orders delivered on time per customer\n",
    "\n",
    "on_time_orders = df_order_agg.query(\"on_time == 1\").groupby('customer_name')[['order_id']].count().reset_index()\n",
    "on_time_orders = on_time_orders.rename({'order_id':'on_time_orders'}, axis=1)\n",
    "on_time_orders.head()"
   ]
  },
  {
   "cell_type": "code",
   "execution_count": null,
   "metadata": {},
   "outputs": [],
   "source": [
    "# Lets find the orders delivered in full per customer\n",
    "\n",
    "in_full_orders = df_order_agg.query(\"in_full == 1\").groupby('customer_name')[['order_id']].count().reset_index()\n",
    "in_full_orders = in_full_orders.rename({'order_id':'in_full_orders'}, axis=1)\n",
    "in_full_orders.head()"
   ]
  },
  {
   "cell_type": "code",
   "execution_count": null,
   "metadata": {},
   "outputs": [],
   "source": [
    "# Lets find the orders delivered on time and in full per customer\n",
    "\n",
    "otif_orders = df_order_agg.query(\"otif == 1\").groupby('customer_name')[['order_id']].count().reset_index()\n",
    "otif_orders = otif_orders.rename({'order_id':'otif_orders'}, axis=1)\n",
    "otif_orders.head()"
   ]
  },
  {
   "cell_type": "code",
   "execution_count": null,
   "metadata": {},
   "outputs": [],
   "source": [
    "# Lets merge them to the customer_orders \n",
    "\n",
    "customer_orders = customer_orders.merge(on_time_orders, how='left', on='customer_name')\n",
    "customer_orders = customer_orders.merge(in_full_orders, how='left', on='customer_name')\n",
    "customer_orders = customer_orders.merge(otif_orders, how='left', on='customer_name')\n",
    "customer_orders.head()"
   ]
  },
  {
   "cell_type": "code",
   "execution_count": null,
   "metadata": {},
   "outputs": [],
   "source": [
    "# We can calculate the OT%, IF% and OTIF%\n",
    "\n",
    "customer_orders['OT %'] = round(customer_orders['on_time_orders']/customer_orders['total_orders'] * 100, 2)\n",
    "customer_orders['IF %'] = round(customer_orders['in_full_orders']/customer_orders['total_orders'] * 100, 2)\n",
    "customer_orders['OTIF %'] = round(customer_orders['otif_orders']/customer_orders['total_orders'] * 100, 2)\n",
    "\n",
    "customer_orders.head()"
   ]
  },
  {
   "cell_type": "code",
   "execution_count": null,
   "metadata": {},
   "outputs": [],
   "source": [
    "# Let's calculate the percentage difference of each KPI from the average target\n",
    "\n",
    "customer_orders['OT_%_diff_from_target'] = round(customer_orders['OT %'] - dim_target_orders['ontime_target%'].mean(), 2)\n",
    "customer_orders['IF_%_diff_from_target'] = round(customer_orders['IF %'] - dim_target_orders['infull_target%'].mean(), 2)\n",
    "customer_orders['OTIF_%_diff_from_target'] = round(customer_orders['OTIF %'] - dim_target_orders['otif_target%'].mean(), 2)\n",
    "\n",
    "customer_orders"
   ]
  },
  {
   "cell_type": "markdown",
   "metadata": {},
   "source": [
    "**Monthly Trend of KPIs**"
   ]
  },
  {
   "cell_type": "code",
   "execution_count": null,
   "metadata": {},
   "outputs": [],
   "source": [
    "# Firstly let's change the month column to a catergorical data type\n",
    "\n",
    "months = df_order_agg['month'].unique().tolist()\n",
    "df_order_agg['month'] = pd.Categorical(df_order_agg['month'], months, ordered=True)\n",
    "df_order_agg['month'].dtypes"
   ]
  },
  {
   "cell_type": "code",
   "execution_count": null,
   "metadata": {},
   "outputs": [],
   "source": [
    "# Orders per month\n",
    "\n",
    "month_orders = df_order_agg.groupby('month', observed=False)[['order_id']].count().reset_index()\n",
    "month_orders = month_orders.rename({'order_id':'total_orders'}, axis=1)\n",
    "month_orders"
   ]
  },
  {
   "cell_type": "code",
   "execution_count": null,
   "metadata": {},
   "outputs": [],
   "source": [
    "# Plot orders per customers \n",
    "\n",
    "plt.plot(month_orders['month'], month_orders['total_orders'], color='dodgerblue')\n",
    "plt.title('Orders per Month')\n",
    "plt.xlabel('Month')\n",
    "plt.ylabel('Orders')\n",
    "plt.ylim(0, 9000)\n",
    "plt.legend([])\n",
    "plt.grid(False)\n",
    "plt.show()"
   ]
  },
  {
   "cell_type": "markdown",
   "metadata": {},
   "source": [
    "Let's calculate the KPIs for each month and see the difference from the average target. "
   ]
  },
  {
   "cell_type": "code",
   "execution_count": null,
   "metadata": {},
   "outputs": [],
   "source": [
    "# Lets find the orders delivered on time per month\n",
    "\n",
    "month_on_time = df_order_agg.query(\"on_time == 1\").groupby('month', observed=True)[['order_id']].count().reset_index()\n",
    "month_on_time = month_on_time.rename({'order_id':'on_time_orders'}, axis=1)\n",
    "month_on_time.head()"
   ]
  },
  {
   "cell_type": "code",
   "execution_count": null,
   "metadata": {},
   "outputs": [],
   "source": [
    "# Lets find the orders delivered in full per customer\n",
    "\n",
    "month_in_full = df_order_agg.query(\"in_full == 1\").groupby('month', observed=True)[['order_id']].count().reset_index()\n",
    "month_in_full = month_in_full.rename({'order_id':'in_full_orders'}, axis=1)\n",
    "month_in_full.head()"
   ]
  },
  {
   "cell_type": "code",
   "execution_count": null,
   "metadata": {},
   "outputs": [],
   "source": [
    "# Lets find the orders delivered on time and in full per customer\n",
    "\n",
    "month_otif = df_order_agg.query(\"otif == 1\").groupby('month', observed=True)[['order_id']].count().reset_index()\n",
    "month_otif = month_otif.rename({'order_id':'otif_orders'}, axis=1)\n",
    "month_otif.head()"
   ]
  },
  {
   "cell_type": "code",
   "execution_count": null,
   "metadata": {},
   "outputs": [],
   "source": [
    "# Merge the dataframes with the month order dataframe\n",
    "\n",
    "month_orders = month_orders.merge(month_on_time, how='left', on='month')\n",
    "month_orders = month_orders.merge(month_in_full, how='left', on='month')\n",
    "month_orders = month_orders.merge(month_otif, how='left', on='month')\n",
    "\n",
    "month_orders"
   ]
  },
  {
   "cell_type": "code",
   "execution_count": null,
   "metadata": {},
   "outputs": [],
   "source": [
    "# We can calculate the OT%, IF% and OTIF%\n",
    "\n",
    "month_orders['OT %'] = round(month_orders['on_time_orders']/month_orders['total_orders'] * 100, 2)\n",
    "month_orders['IF %'] = round(month_orders['in_full_orders']/month_orders['total_orders'] * 100, 2)\n",
    "month_orders['OTIF %'] = round(month_orders['otif_orders']/month_orders['total_orders'] * 100, 2)\n",
    "\n",
    "# Let's calculate the percentage difference of each KPI from the average target\n",
    "\n",
    "month_orders['OT_%_diff_from_target'] = round(month_orders['OT %'] - dim_target_orders['ontime_target%'].mean(), 2)\n",
    "month_orders['IF_%_diff_from_target'] = round(month_orders['IF %'] - dim_target_orders['infull_target%'].mean(), 2)\n",
    "month_orders['OTIF_%_diff_from_target'] = round(month_orders['OTIF %'] - dim_target_orders['otif_target%'].mean(), 2)\n",
    "\n",
    "month_orders"
   ]
  },
  {
   "cell_type": "code",
   "execution_count": null,
   "metadata": {},
   "outputs": [],
   "source": [
    "# Plot OT% per month vs target\n",
    "\n",
    "plt.plot(month_orders['month'], month_orders['OT %'], color='dodgerblue')\n",
    "plt.axhline(y=int(dim_target_orders['ontime_target%'].mean()), color='red', linestyle='--')\n",
    "plt.text(3.5, 87, 'Target', ha='center', va='bottom')\n",
    "plt.title('OT% per Month')\n",
    "plt.xlabel('Month')\n",
    "plt.ylabel('OT %')\n",
    "plt.ylim(0, 100)\n",
    "plt.legend([])\n",
    "plt.grid(False)\n",
    "plt.show()"
   ]
  },
  {
   "cell_type": "code",
   "execution_count": null,
   "metadata": {},
   "outputs": [],
   "source": [
    "# Plot IF% per month vs target\n",
    "\n",
    "plt.plot(month_orders['month'], month_orders['IF %'], color='dodgerblue')\n",
    "plt.axhline(y=int(dim_target_orders['infull_target%'].mean()), color='red', linestyle='--')\n",
    "plt.text(3.5, 78, 'Target', ha='center', va='bottom')\n",
    "plt.title('IF% per Month')\n",
    "plt.xlabel('Month')\n",
    "plt.ylabel('IF%')\n",
    "plt.ylim(0, 100)\n",
    "plt.legend([])\n",
    "plt.grid(False)\n",
    "plt.show()"
   ]
  },
  {
   "cell_type": "code",
   "execution_count": null,
   "metadata": {},
   "outputs": [],
   "source": [
    "# Plot IF% per month \n",
    "\n",
    "plt.plot(month_orders['month'], month_orders['OTIF %'], color='dodgerblue')\n",
    "plt.axhline(y=int(dim_target_orders['otif_target%'].mean()), color='red', linestyle='--')\n",
    "plt.text(3.5, 67, 'Target', ha='center', va='bottom')\n",
    "plt.title('OTIF% per Month')\n",
    "plt.xlabel('Month')\n",
    "plt.ylabel('OTIF%')\n",
    "plt.ylim(0, 100)\n",
    "plt.legend([])\n",
    "plt.grid(False)\n",
    "plt.show()"
   ]
  }
 ],
 "metadata": {
  "kernelspec": {
   "display_name": "projectsenv",
   "language": "python",
   "name": "python3"
  },
  "language_info": {
   "codemirror_mode": {
    "name": "ipython",
    "version": 3
   },
   "file_extension": ".py",
   "mimetype": "text/x-python",
   "name": "python",
   "nbconvert_exporter": "python",
   "pygments_lexer": "ipython3",
   "version": "3.11.7"
  }
 },
 "nbformat": 4,
 "nbformat_minor": 2
}
